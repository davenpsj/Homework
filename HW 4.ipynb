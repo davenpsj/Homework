{
 "metadata": {
  "name": "",
  "signature": "sha256:4d0a4509280b1c013dfb726b440f6fdf0439fd1c05a1ab86cadaeebb003cf6cd"
 },
 "nbformat": 3,
 "nbformat_minor": 0,
 "worksheets": [
  {
   "cells": [
    {
     "cell_type": "code",
     "collapsed": false,
     "input": [
      "part a. produce a dataframe where the incident occurred, short text, and link"
     ],
     "language": "python",
     "metadata": {},
     "outputs": []
    },
    {
     "cell_type": "code",
     "collapsed": false,
     "input": [
      "from urllib.request import urlopen\n",
      "from bs4 import BeautifulSoup\n",
      "import pandas as pd\n",
      "import random\n",
      "import json"
     ],
     "language": "python",
     "metadata": {},
     "outputs": [],
     "prompt_number": 2
    },
    {
     "cell_type": "code",
     "collapsed": false,
     "input": [
      "base_url = \"https://en.wikipedia.org/\"\n",
      "index_ref = \"wiki/List_of_accidents_and_incidents_involving_commercial_aircraft\"\n",
      "plane_crash = urlopen(base_url + index_ref)\n",
      "soup = BeautifulSoup(plane_crash, \"lxml\")\n",
      "#print (soup)"
     ],
     "language": "python",
     "metadata": {},
     "outputs": [],
     "prompt_number": 3
    },
    {
     "cell_type": "code",
     "collapsed": false,
     "input": [
      "#print(soup.prettify())"
     ],
     "language": "python",
     "metadata": {},
     "outputs": [],
     "prompt_number": 12
    },
    {
     "cell_type": "code",
     "collapsed": false,
     "input": [
      "date = []\n",
      "text = []\n",
      "links = []\n",
      "\n",
      "for row in soup.find_all('li', class_=False)[:-3]:\n",
      "    if date.append(row.text(\"\\d+\")):\n",
      "        date.drop(\"\")[0] \n",
      "    elif date.append(row.text(\"\\d+\")):\n",
      "        date.append(row.text.split(\"-\")[0])\n",
      "        text.append(row.text.split(\"-\")[1])\n",
      "        links.append(row.find_all('a'))\n",
      "    else:\n",
      "        date.append(row.text.split(\"\u2013\")[0])\n",
      "        text.append(row.text.split(\"\u2013\")[1])\n",
      "        links.append(row.find_all('a'))"
     ],
     "language": "python",
     "metadata": {},
     "outputs": [
      {
       "ename": "TypeError",
       "evalue": "'str' object is not callable",
       "output_type": "pyerr",
       "traceback": [
        "\u001b[0;31m---------------------------------------------------------------------------\u001b[0m\n\u001b[0;31mTypeError\u001b[0m                                 Traceback (most recent call last)",
        "\u001b[0;32m<ipython-input-47-3611bfbef550>\u001b[0m in \u001b[0;36m<module>\u001b[0;34m()\u001b[0m\n\u001b[1;32m      4\u001b[0m \u001b[0;34m\u001b[0m\u001b[0m\n\u001b[1;32m      5\u001b[0m \u001b[0;32mfor\u001b[0m \u001b[0mrow\u001b[0m \u001b[0;32min\u001b[0m \u001b[0msoup\u001b[0m\u001b[0;34m.\u001b[0m\u001b[0mfind_all\u001b[0m\u001b[0;34m(\u001b[0m\u001b[0;34m'li'\u001b[0m\u001b[0;34m,\u001b[0m \u001b[0mclass_\u001b[0m\u001b[0;34m=\u001b[0m\u001b[0;32mFalse\u001b[0m\u001b[0;34m)\u001b[0m\u001b[0;34m[\u001b[0m\u001b[0;34m:\u001b[0m\u001b[0;34m-\u001b[0m\u001b[0;36m3\u001b[0m\u001b[0;34m]\u001b[0m\u001b[0;34m:\u001b[0m\u001b[0;34m\u001b[0m\u001b[0m\n\u001b[0;32m----> 6\u001b[0;31m     \u001b[0;32mif\u001b[0m \u001b[0mdate\u001b[0m\u001b[0;34m.\u001b[0m\u001b[0mappend\u001b[0m\u001b[0;34m(\u001b[0m\u001b[0mrow\u001b[0m\u001b[0;34m.\u001b[0m\u001b[0mtext\u001b[0m\u001b[0;34m(\u001b[0m\u001b[0;34m\"\\d+\"\u001b[0m\u001b[0;34m)\u001b[0m\u001b[0;34m)\u001b[0m\u001b[0;34m:\u001b[0m\u001b[0;34m\u001b[0m\u001b[0m\n\u001b[0m\u001b[1;32m      7\u001b[0m         \u001b[0mdate\u001b[0m\u001b[0;34m.\u001b[0m\u001b[0mdrop\u001b[0m\u001b[0;34m(\u001b[0m\u001b[0;34m\"\"\u001b[0m\u001b[0;34m)\u001b[0m\u001b[0;34m[\u001b[0m\u001b[0;36m0\u001b[0m\u001b[0;34m]\u001b[0m\u001b[0;34m\u001b[0m\u001b[0m\n\u001b[1;32m      8\u001b[0m     \u001b[0;32melif\u001b[0m \u001b[0mdate\u001b[0m\u001b[0;34m.\u001b[0m\u001b[0mappend\u001b[0m\u001b[0;34m(\u001b[0m\u001b[0mrow\u001b[0m\u001b[0;34m.\u001b[0m\u001b[0mtext\u001b[0m\u001b[0;34m(\u001b[0m\u001b[0;34m\"\\d+\"\u001b[0m\u001b[0;34m)\u001b[0m\u001b[0;34m)\u001b[0m\u001b[0;34m:\u001b[0m\u001b[0;34m\u001b[0m\u001b[0m\n",
        "\u001b[0;31mTypeError\u001b[0m: 'str' object is not callable"
       ]
      }
     ],
     "prompt_number": 47
    },
    {
     "cell_type": "code",
     "collapsed": false,
     "input": [],
     "language": "python",
     "metadata": {},
     "outputs": []
    },
    {
     "cell_type": "code",
     "collapsed": false,
     "input": [
      "#soup.find_all('li')"
     ],
     "language": "python",
     "metadata": {},
     "outputs": [],
     "prompt_number": 12
    },
    {
     "cell_type": "code",
     "collapsed": false,
     "input": [
      "#df = pd.DataFrame(date, text, link, columns=['raw'])\n",
      "df['date'] = df['raw'].str.extract('(^_]+(?=:))') "
     ],
     "language": "python",
     "metadata": {},
     "outputs": [],
     "prompt_number": 15
    },
    {
     "cell_type": "code",
     "collapsed": false,
     "input": [
      "#df"
     ],
     "language": "python",
     "metadata": {},
     "outputs": [],
     "prompt_number": 16
    },
    {
     "cell_type": "markdown",
     "metadata": {},
     "source": [
      "part b. Scrape each link"
     ]
    },
    {
     "cell_type": "code",
     "collapsed": false,
     "input": [
      "airport_links = pd.read_csv('/home/studentuser/Downloads/crashes.csv')"
     ],
     "language": "python",
     "metadata": {},
     "outputs": [],
     "prompt_number": 4
    },
    {
     "cell_type": "code",
     "collapsed": false,
     "input": [
      "airport_links.head()"
     ],
     "language": "python",
     "metadata": {},
     "outputs": [
      {
       "html": [
        "<div style=\"max-height:1000px;max-width:1500px;overflow:auto;\">\n",
        "<table border=\"1\" class=\"dataframe\">\n",
        "  <thead>\n",
        "    <tr style=\"text-align: right;\">\n",
        "      <th></th>\n",
        "      <th>Unnamed: 0</th>\n",
        "      <th>description</th>\n",
        "      <th>link</th>\n",
        "    </tr>\n",
        "  </thead>\n",
        "  <tbody>\n",
        "    <tr>\n",
        "      <th>0</th>\n",
        "      <td> 0</td>\n",
        "      <td> A Caproni Ca.48 crashes at Verona, Italy, duri...</td>\n",
        "      <td>             /wiki/1919_Verona_Caproni_Ca.48_crash</td>\n",
        "    </tr>\n",
        "    <tr>\n",
        "      <th>1</th>\n",
        "      <td> 1</td>\n",
        "      <td> In the first mid-air collision of airliners, a...</td>\n",
        "      <td>        /wiki/First_mid-air_collision_of_airliners</td>\n",
        "    </tr>\n",
        "    <tr>\n",
        "      <th>2</th>\n",
        "      <td> 2</td>\n",
        "      <td> An Air Union Farman F.60 Goliath crashes near ...</td>\n",
        "      <td>     /wiki/May_1923_Air_Union_Farman_Goliath_crash</td>\n",
        "    </tr>\n",
        "    <tr>\n",
        "      <th>3</th>\n",
        "      <td> 3</td>\n",
        "      <td> An Air Union Farman F.60 Goliath crashes near ...</td>\n",
        "      <td>  /wiki/August_1923_Air_Union_Farman_Goliath_crash</td>\n",
        "    </tr>\n",
        "    <tr>\n",
        "      <th>4</th>\n",
        "      <td> 4</td>\n",
        "      <td> An Imperial Airways de Havilland DH.34 crashes...</td>\n",
        "      <td> /wiki/1924_Imperial_Airways_de_Havilland_DH.34...</td>\n",
        "    </tr>\n",
        "  </tbody>\n",
        "</table>\n",
        "</div>"
       ],
       "metadata": {},
       "output_type": "pyout",
       "prompt_number": 5,
       "text": [
        "   Unnamed: 0                                        description  \\\n",
        "0           0  A Caproni Ca.48 crashes at Verona, Italy, duri...   \n",
        "1           1  In the first mid-air collision of airliners, a...   \n",
        "2           2  An Air Union Farman F.60 Goliath crashes near ...   \n",
        "3           3  An Air Union Farman F.60 Goliath crashes near ...   \n",
        "4           4  An Imperial Airways de Havilland DH.34 crashes...   \n",
        "\n",
        "                                                link  \n",
        "0              /wiki/1919_Verona_Caproni_Ca.48_crash  \n",
        "1         /wiki/First_mid-air_collision_of_airliners  \n",
        "2      /wiki/May_1923_Air_Union_Farman_Goliath_crash  \n",
        "3   /wiki/August_1923_Air_Union_Farman_Goliath_crash  \n",
        "4  /wiki/1924_Imperial_Airways_de_Havilland_DH.34...  "
       ]
      }
     ],
     "prompt_number": 5
    },
    {
     "cell_type": "code",
     "collapsed": false,
     "input": [
      "import re\n",
      "\n",
      "#airport_links = soup.find_all(\"a\", href=re.compile (\"/wiki/\\w+d+\"))"
     ],
     "language": "python",
     "metadata": {},
     "outputs": [],
     "prompt_number": 6
    },
    {
     "cell_type": "code",
     "collapsed": false,
     "input": [
      "import time \n",
      "\n",
      "def try_request(url):\n",
      "    html = urlopen(url)\n",
      "    time.sleep(.2)\n",
      "    return html"
     ],
     "language": "python",
     "metadata": {},
     "outputs": [],
     "prompt_number": 7
    },
    {
     "cell_type": "code",
     "collapsed": false,
     "input": [
      "def extract_details(planecrash_html):\n",
      "    \n",
      "    flight_details = BeautifulSoup(planecrash_html, 'lxml')\n",
      "    table = flight_details.find(\"table\",{\"class\": \"infobox vcard vevent\"})\n",
      "    \n",
      "    Passengers = 0\n",
      "    Crew = 0\n",
      "    Fatalities = 0\n",
      "    Survivors = 0\n",
      "    Registration = 'no data'\n",
      "    Flight_origin = 'no data'\n",
      "    Destination = 'no data\n",
      "    number_regex = re.compile('\\d+')\n",
      "    \n",
      "    if table != None:\n",
      "        rows = table.find_all(\"tr\")\n",
      "        \n",
      "        \n",
      "        for r in rows:\n",
      "            try:\n",
      "                row_title = r.find(\"th\").get_text().strip().lower()\n",
      "                \n",
      "                if row_title == \"Passengers\":\n",
      "                    td_data = r.find(\"th\").get_text().strip()\n",
      "                    \n",
      "                    if td_data.isnumeric():\n",
      "                        Passenger_count = int(td_data)\n",
      "                        \n",
      "                    else:\n",
      "                        alt_result = re.search(\"\\d+\", td_data)\n",
      "                        if alt_result ! = None:\n",
      "                            passenger_count = int(alt_result.group(0))\n",
      "                elif row_title == \"Crew\":\n",
      "                    td_data = r.find(\"th\").get_text().strip()\n",
      "                     if td_data.isnumeric():\n",
      "                        Crew_count = int(td_data)\n",
      "                        \n",
      "                    else:\n",
      "                        alt_result = re.search(\"\\d+\", td_data)\n",
      "                        if alt_result ! = None:\n",
      "                            Crew_count = int(alt_result.group(0))\n",
      "                            \n",
      "                 elif row_title == \"Fatalities\":\n",
      "                    td_data = r.find(\"th\").get_text().strip()\n",
      "                     if td_data.isnumeric():\n",
      "                        Fatality_count = int(td_data)\n",
      "                        \n",
      "                    else:\n",
      "                        alt_result = re.search(\"\\d+\", td_data)\n",
      "                        if alt_result ! = None:\n",
      "                            Fatality_count = int(alt_result.group(0))\n",
      "                            \n",
      "                 elif row_title == \"Survivor\":\n",
      "                    td_data = r.find(\"th\").get_text().strip()\n",
      "                     if td_data.isnumeric():\n",
      "                        survivor_count = int(td_data)\n",
      "                        \n",
      "                    else:\n",
      "                        alt_result = re.search(\"\\d+\", td_data)\n",
      "                        if alt_result ! = None:\n",
      "                            survivor_count = int(alt_result.group(0))\n",
      "                 elif row_title == \"Registration\":\n",
      "                    td_data = r.find(\"th\").get_text().strip()\n",
      "                     if len(td_data) > 0:\n",
      "                            registration = td_data  \n",
      "                 \n",
      "                 elif row_title == \"Flight_origin\":\n",
      "                    td_data = r.find(\"th\").get_text().strip()\n",
      "                     if len(td_data) > 0:\n",
      "                             origin = td_data  \n",
      "                  elif row_title == \"Destination\":\n",
      "                    td_data = r.find(\"th\").get_text().strip()\n",
      "                     if len(td_data) > 0:\n",
      "                            Destination = td_data  \n",
      "                            \n",
      "                    \n",
      "        except:\n",
      "            pass\n",
      "        \n",
      "    return {\"passenger_count\": Passengers,\n",
      "            \"Crew_count\": Crew,\n",
      "            \"Fatality_count\": Fatalities,\n",
      "            \"survivor_count\": Survivors,\n",
      "            \"registration\": Registration,\n",
      "            \"origin\": Flight_origin,\n",
      "            \"Destination\": Destination}"
     ],
     "language": "python",
     "metadata": {},
     "outputs": [],
     "prompt_number": 21
    },
    {
     "cell_type": "code",
     "collapsed": false,
     "input": [
      "Passengers = []\n",
      "Crew = []\n",
      "Fatalities = []\n",
      "Survivors = []\n",
      "Registration = []\n",
      "Flight_origin = []\n",
      "Destination = []"
     ],
     "language": "python",
     "metadata": {},
     "outputs": [],
     "prompt_number": 22
    },
    {
     "cell_type": "code",
     "collapsed": false,
     "input": [
      "for row in airport_links.link.values:\n",
      "    planecrash_html = try_request(base_url + row)\n",
      "    details = extract_details(planecrash_html)\n",
      "    \n",
      "    Passengers.append(details[\"passenger_count\"])\n",
      "    Crew.append(details[\"Crew_count\"])\n",
      "    Fatalities.append(details[\"Fatality_count\"])\n",
      "    Survivors.append(details[\"survivor_count\"])\n",
      "    Registration.append(details[\"registration\"])\n",
      "    Flight_origin.append(details[\"origin\"])\n",
      "    Destination.append(details[\"Destination\"])\n",
      "    "
     ],
     "language": "python",
     "metadata": {},
     "outputs": [],
     "prompt_number": 24
    },
    {
     "cell_type": "code",
     "collapsed": false,
     "input": [
      "scaped_df = airport_links({\n",
      "    \"passenger_count\": Passengers,\n",
      "    \"Crew_count\": Crew,\n",
      "    \"Fatality_count\": Fatalities,\n",
      "    \"survivor:_ount\": Survivors,\n",
      "    \"registration\": Registration,\n",
      "    \"origin\": Flight_origin,\n",
      "    \"Destination\": Destination})"
     ],
     "language": "python",
     "metadata": {},
     "outputs": [
      {
       "output_type": "stream",
       "stream": "stdout",
       "text": [
        "['', '', '', '', '', '', '', '', '', '', '', '', '', '', '', '', '', '', '', '', '', '', '', '', '', '', '', '', '', '', '', '', '', '', '', '', '', '', '', '', '', '', '', '', '', '', '', '', '', '', '', '', '', '', '', '', '', '', '', '', '', '', '', '', '', '', '', '', '', '', '', '', '', '', '', '', '', '', '', '', '', '', '', '', '', '', '', '', '', '', '', '', '', '', '', '', '', '', '', '', '', '', '', '', '', '', '', '', '', '', '', '', '', '', '', '', '', '', '', '', '', '', '', '', '', '', '', '', '', '', '', '', '', '', '', '', '', '', '', '', '', '', '', '', '', '', '', '', '', '', '', '', '', '', '', '', '', '', '', '', '', '', '', '', '', '', '', '', '', '', '', '', '', '', '', '', '', '', '', '', '', '', '', '', '', '', '', '', '', '', '', '', '', '', '', '', '', '', '', '', '', '', '', '', '', '', '', '', '', '', '', '', '', '', '', '', '', '', '', '', '', '', '', '', '', '', '', '', '', '', '', '', '', '', '', '', '', '', '', '', '', '', '', '', '', '', '', '', '', '', '', '', '', '', '', '', '', '', '', '', '', '', '', '', '', '', '', '', '', '', '', '', '', '', '', '', '', '', '', '', '', '', '', '', '', '', '', '', '', '', '', '', '', '', '', '', '', '', '', '', '', '', '', '', '', '', '', '', '', '', '', '', '', '', '', '', '', '', '', '', '', '', '', '', '', '', '', '', '', '', '', '', '', '', '', '', '', '', '', '', '', '', '', '', '', '', '', '', '', '', '', '', '', '', '', '', '', '', '', '', '', '', '', '', '', '', '', '', '', '', '', '', '', '', '', '', '', '', '', '', '', '', '', '', '', '', '', '', '', '', '', '', '', '', '', '', '', '', '', '', '', '', '', '', '', '', '', '', '', '', '', '', '', '', '', '', '', '', '', '', '', '', '', '', '', '', '', '', '', '', '', '', '', '', '', '', '', '', '', '', '', '', '', '', '', '', '', '', '', '', '', '', '', '', '', '', '', '', '', '', '', '', '', '', '', '', '', '', '', '', '', '', '', '', '', '', '', '', '', '', '', '', '', '', '', '', '', '', '', '', '', '', '', '', '', '', '', '', '', '', '', '', '', '', '', '', '', '', '', '', '', '', '', '', '', '', '', '', '', '', '', '', '', '', '', '', '', '', '', '', '', '', '', '', '', '', '', '', '', '', '', '', '', '', '', '', '', '', '', '', '', '', '', '', '', '', '', '', '', '', '', '', '', '', '', '', '', '', '', '', '', '', '', '', '', '', '', '', '', '', '', '', '', '', '', '', '', '', '', '', '', '', '', '', '', '', '', '', '', '', '', '', '', '', '', '', '', '', '', '', '', '', '', '', '', '', '', '', '', '', '', '', '', '', '', '', '', '', '', '', '', '', '', '', '', '', '', '', '', '', '', '', '', '', '', '', '', '', '', '', '', '', '', '', '', '', '', '', '', '', '', '', '', '', '', '', '', '', '', '', '', '', '', '', '', '', '', '', '', '', '', '', '', '', '', '', '', '', '', '', '', '', '', '', '', '', '', '', '', '', '', '', '', '', '', '', '', '', '', '', '', '', '', '', '', '', '', '', '', '', '', '', '', '', '', '', '', '', '', '', '', '', '', '', '', '', '', '', '', '', '', '', '', '', '', '', '', '', '', '', '', '', '', '', '', '', '', '', '', '', '', '', '', '', '', '', '', '', '', '', '', '', '', '', '', '', '', '', '', '', '', '', '', '', '', '', '', '', '', '', '', '', '', '', '', '', '', '', '', '', '', '', '', '', '', '', '', '', '', '', '', '', '', '', '', '', '', '', '', '', '', '', '', '', '', '', '', '', '', '', '', '', '', '', '', '', '', '', '', '', '', '', '', '', '', '', '', '', '', '', '', '', '', '', '', '', '', '', '', '', '', '', '', '', '', '', '', '', '', '', '', '', '', '', '', '', '', '', '', '', '', '', '', '', '', '', '', '', '', '', '', '', '', '', '', '', '', '', '', '', '', '', '', '', '', '', '', '', '', '', '', '', '', '', '', '', '', '', '', '', '', '', '', '', '', '', '', '', '', '', '', '', '', '', '', '', '', '', '', '', '', '', '', '', '', '', '', '', '', '', '', '', '', '', '', '', '', '', '', '', '', '', '', '', '', '', '', '', '', '', '', '', '', '', '', '', '', '', '', '', '', '', '', '', '', '', '', '', '', '', '', '', '', '', '', '', '', '', '', '', '', '', '', '', '', '', '', '', '', '', '', '', '', '', '', '', '', '', '', '', '', '', '', '', '', '', '', '', '', '', '', '', '', '', '', '', '', '', '', '', '', '', '', '', '', '', '', '', '', '', '', '', '', '', '', '', '', '', '', '', '', '', '', '', '']\n"
       ]
      }
     ],
     "prompt_number": 16
    },
    {
     "cell_type": "code",
     "collapsed": false,
     "input": [
      "scraped_df"
     ],
     "language": "python",
     "metadata": {},
     "outputs": []
    },
    {
     "cell_type": "markdown",
     "metadata": {},
     "source": [
      "part c. what were the top five crash incidents"
     ]
    },
    {
     "cell_type": "code",
     "collapsed": false,
     "input": [
      "deadliest = scraped_df.sort('Fatality_count')\n",
      "deadliest.tail(5)"
     ],
     "language": "python",
     "metadata": {},
     "outputs": [
      {
       "ename": "NameError",
       "evalue": "name 'planecrash_html' is not defined",
       "output_type": "pyerr",
       "traceback": [
        "\u001b[0;31m---------------------------------------------------------------------------\u001b[0m\n\u001b[0;31mNameError\u001b[0m                                 Traceback (most recent call last)",
        "\u001b[0;32m<ipython-input-1-172695bc8164>\u001b[0m in \u001b[0;36m<module>\u001b[0;34m()\u001b[0m\n\u001b[0;32m----> 1\u001b[0;31m \u001b[0mplanecrash_html\u001b[0m\u001b[0;34m.\u001b[0m\u001b[0mgroupy\u001b[0m\u001b[0;34m(\u001b[0m\u001b[0;34m\"number_of_fatalities\"\u001b[0m\u001b[0;34m)\u001b[0m\u001b[0;34m\u001b[0m\u001b[0m\n\u001b[0m\u001b[1;32m      2\u001b[0m \u001b[0mfatalities\u001b[0m \u001b[0;34m=\u001b[0m \u001b[0mplanecrash_html\u001b[0m\u001b[0;34m.\u001b[0m\u001b[0mgroupby\u001b[0m\u001b[0;34m(\u001b[0m\u001b[0;34m\"Number of Fatalities\"\u001b[0m\u001b[0;34m)\u001b[0m\u001b[0;34m\u001b[0m\u001b[0m\n\u001b[1;32m      3\u001b[0m \u001b[0mfatalities\u001b[0m\u001b[0;34m.\u001b[0m\u001b[0msort\u001b[0m\u001b[0;34m(\u001b[0m\u001b[0;34m)\u001b[0m\u001b[0;34m\u001b[0m\u001b[0m\n\u001b[1;32m      4\u001b[0m \u001b[0mfatalities\u001b[0m\u001b[0;34m[\u001b[0m\u001b[0;34m:\u001b[0m\u001b[0;36m5\u001b[0m\u001b[0;34m]\u001b[0m\u001b[0;34m\u001b[0m\u001b[0m\n",
        "\u001b[0;31mNameError\u001b[0m: name 'planecrash_html' is not defined"
       ]
      }
     ],
     "prompt_number": 1
    },
    {
     "cell_type": "markdown",
     "metadata": {},
     "source": [
      "Haneda Airport Tokyo with 520 fatalities\n",
      "Yesilkoy Istanbul with 346\n",
      "Toronto Airport\n",
      "Quaid e Azam International 301\n",
      "Amsterdam with 298"
     ]
    },
    {
     "cell_type": "markdown",
     "metadata": {},
     "source": [
      "part d. What flight origin has the highest number of incidents in the last 25 years?"
     ]
    },
    {
     "cell_type": "code",
     "collapsed": false,
     "input": [
      "most_accidents = scraped_df.groupby('origin')\n",
      "single_most_accidents_df = most_accidents['origin'].agg('count')\n",
      "single_most_accidents_df.sort_values().tail(2)"
     ],
     "language": "python",
     "metadata": {},
     "outputs": []
    },
    {
     "cell_type": "markdown",
     "metadata": {},
     "source": [
      "in the last 25 years, flights leaving london heathrow had the most accidents with 10."
     ]
    },
    {
     "cell_type": "markdown",
     "metadata": {},
     "source": [
      "part e. save this dataframe as json"
     ]
    },
    {
     "cell_type": "code",
     "collapsed": false,
     "input": [
      "scraped_df.to_json('flight_origin_crash.json')"
     ],
     "language": "python",
     "metadata": {},
     "outputs": []
    }
   ],
   "metadata": {}
  }
 ]
}